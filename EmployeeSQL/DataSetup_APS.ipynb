{
 "cells": [
  {
   "cell_type": "code",
   "execution_count": 22,
   "metadata": {},
   "outputs": [],
   "source": [
    "#Import dependencies\n",
    "import pandas as pd\n",
    "import os\n",
    "\n",
    "#set location of the folder with the CSV files\n",
    "csvpath = os.path.join('..', 'data')"
   ]
  },
  {
   "cell_type": "code",
   "execution_count": 5,
   "metadata": {},
   "outputs": [],
   "source": [
    "#list of tables by name\n",
    "table_list = [\n",
    "            'departments.csv'\n",
    "            ,'dept_emp.csv'\n",
    "            ,'dept_manager.csv'\n",
    "            ,'employees.csv'\n",
    "            ,'salaries.csv'\n",
    "            ,'titles.csv'\n",
    "            ]"
   ]
  },
  {
   "cell_type": "code",
   "execution_count": 58,
   "metadata": {},
   "outputs": [],
   "source": [
    "#create list of table names for the db\n",
    "\n",
    "table_names = []\n",
    "for i in range(len(table_list)):\n",
    "    table_names.append(table_list[i][:len(table_list[i])-4]) #strips last four chars, i.e., the file extension\n",
    "\n",
    "\n"
   ]
  },
  {
   "cell_type": "code",
   "execution_count": 59,
   "metadata": {},
   "outputs": [
    {
     "name": "stdout",
     "output_type": "stream",
     "text": [
      "['departments', 'dept_emp', 'dept_manager', 'employees', 'salaries', 'titles']\n"
     ]
    }
   ],
   "source": [
    "print(table_names)"
   ]
  },
  {
   "cell_type": "code",
   "execution_count": 72,
   "metadata": {},
   "outputs": [
    {
     "name": "stdout",
     "output_type": "stream",
     "text": [
      "  dept_no           dept_name\n",
      "0    d001           Marketing\n",
      "1    d002             Finance\n",
      "2    d003     Human Resources\n",
      "3    d004          Production\n",
      "4    d005         Development\n",
      "5    d006  Quality Management\n",
      "6    d007               Sales\n",
      "7    d008            Research\n",
      "8    d009    Customer Service\n",
      "        emp_no dept_no\n",
      "0        10001    d005\n",
      "1        10002    d007\n",
      "2        10003    d004\n",
      "3        10004    d004\n",
      "4        10005    d003\n",
      "...        ...     ...\n",
      "331598  499995    d004\n",
      "331599  499996    d004\n",
      "331600  499997    d005\n",
      "331601  499998    d002\n",
      "331602  499999    d004\n",
      "\n",
      "[331603 rows x 2 columns]\n",
      "   dept_no  emp_no\n",
      "0     d001  110022\n",
      "1     d001  110039\n",
      "2     d002  110085\n",
      "3     d002  110114\n",
      "4     d003  110183\n",
      "5     d003  110228\n",
      "6     d004  110303\n",
      "7     d004  110344\n",
      "8     d004  110386\n",
      "9     d004  110420\n",
      "10    d005  110511\n",
      "11    d005  110567\n",
      "12    d006  110725\n",
      "13    d006  110765\n",
      "14    d006  110800\n",
      "15    d006  110854\n",
      "16    d007  111035\n",
      "17    d007  111133\n",
      "18    d008  111400\n",
      "19    d008  111534\n",
      "20    d009  111692\n",
      "21    d009  111784\n",
      "22    d009  111877\n",
      "23    d009  111939\n",
      "        emp_no emp_title_id  birth_date   first_name  last_name sex  \\\n",
      "0       473302        s0001   7/25/1953     Hideyuki   Zallocco   M   \n",
      "1       475053        e0002  11/18/1954        Byong  Delgrande   F   \n",
      "2        57444        e0002   1/30/1958        Berry       Babb   F   \n",
      "3       421786        s0001   9/28/1957        Xiong   Verhoeff   M   \n",
      "4       282238        e0003  10/28/1952   Abdelkader    Baumann   F   \n",
      "...        ...          ...         ...          ...        ...  ..   \n",
      "300019  464231        s0001   8/14/1958  Constantino    Eastman   M   \n",
      "300020  255832        e0002    5/8/1955       Yuping     Dayang   F   \n",
      "300021   76671        s0001    6/9/1959       Ortrud   Plessier   M   \n",
      "300022  264920        s0001   9/22/1959        Percy   Samarati   F   \n",
      "300023  464503        s0002   5/31/1964       Arvind  Slobodova   M   \n",
      "\n",
      "         hire_date  \n",
      "0        4/28/1990  \n",
      "1         9/7/1991  \n",
      "2        3/21/1992  \n",
      "3       11/26/1987  \n",
      "4        1/18/1991  \n",
      "...            ...  \n",
      "300019  10/28/1988  \n",
      "300020   2/26/1995  \n",
      "300021   2/24/1988  \n",
      "300022    9/8/1994  \n",
      "300023  11/23/1987  \n",
      "\n",
      "[300024 rows x 7 columns]\n",
      "        emp_no  salary\n",
      "0        10001   60117\n",
      "1        10002   65828\n",
      "2        10003   40006\n",
      "3        10004   40054\n",
      "4        10005   78228\n",
      "...        ...     ...\n",
      "300019  499995   40000\n",
      "300020  499996   58058\n",
      "300021  499997   49597\n",
      "300022  499998   40000\n",
      "300023  499999   63707\n",
      "\n",
      "[300024 rows x 2 columns]\n",
      "  title_id               title\n",
      "0    s0001               Staff\n",
      "1    s0002        Senior Staff\n",
      "2    e0001  Assistant Engineer\n",
      "3    e0002            Engineer\n",
      "4    e0003     Senior Engineer\n",
      "5    e0004    Technique Leader\n",
      "6    m0001             Manager\n"
     ]
    }
   ],
   "source": [
    "#load csv tables into dataframes\n",
    "for i in range(len(table_list)):\n",
    "    filepath = os.path.join(csvpath, table_list[i])\n",
    "    dataframe = table_names[i]\n",
    "    print(dataframe)\n",
    "#     dataframe = pd.read_csv(filepath)\n",
    "    \n",
    "\n"
   ]
  },
  {
   "cell_type": "code",
   "execution_count": 77,
   "metadata": {},
   "outputs": [
    {
     "data": {
      "text/html": [
       "<div>\n",
       "<style scoped>\n",
       "    .dataframe tbody tr th:only-of-type {\n",
       "        vertical-align: middle;\n",
       "    }\n",
       "\n",
       "    .dataframe tbody tr th {\n",
       "        vertical-align: top;\n",
       "    }\n",
       "\n",
       "    .dataframe thead th {\n",
       "        text-align: right;\n",
       "    }\n",
       "</style>\n",
       "<table border=\"1\" class=\"dataframe\">\n",
       "  <thead>\n",
       "    <tr style=\"text-align: right;\">\n",
       "      <th></th>\n",
       "      <th>emp_no</th>\n",
       "      <th>emp_title_id</th>\n",
       "      <th>birth_date</th>\n",
       "      <th>first_name</th>\n",
       "      <th>last_name</th>\n",
       "      <th>sex</th>\n",
       "      <th>hire_date</th>\n",
       "    </tr>\n",
       "  </thead>\n",
       "  <tbody>\n",
       "    <tr>\n",
       "      <th>0</th>\n",
       "      <td>473302</td>\n",
       "      <td>s0001</td>\n",
       "      <td>7/25/1953</td>\n",
       "      <td>Hideyuki</td>\n",
       "      <td>Zallocco</td>\n",
       "      <td>M</td>\n",
       "      <td>4/28/1990</td>\n",
       "    </tr>\n",
       "    <tr>\n",
       "      <th>1</th>\n",
       "      <td>475053</td>\n",
       "      <td>e0002</td>\n",
       "      <td>11/18/1954</td>\n",
       "      <td>Byong</td>\n",
       "      <td>Delgrande</td>\n",
       "      <td>F</td>\n",
       "      <td>9/7/1991</td>\n",
       "    </tr>\n",
       "    <tr>\n",
       "      <th>2</th>\n",
       "      <td>57444</td>\n",
       "      <td>e0002</td>\n",
       "      <td>1/30/1958</td>\n",
       "      <td>Berry</td>\n",
       "      <td>Babb</td>\n",
       "      <td>F</td>\n",
       "      <td>3/21/1992</td>\n",
       "    </tr>\n",
       "    <tr>\n",
       "      <th>3</th>\n",
       "      <td>421786</td>\n",
       "      <td>s0001</td>\n",
       "      <td>9/28/1957</td>\n",
       "      <td>Xiong</td>\n",
       "      <td>Verhoeff</td>\n",
       "      <td>M</td>\n",
       "      <td>11/26/1987</td>\n",
       "    </tr>\n",
       "    <tr>\n",
       "      <th>4</th>\n",
       "      <td>282238</td>\n",
       "      <td>e0003</td>\n",
       "      <td>10/28/1952</td>\n",
       "      <td>Abdelkader</td>\n",
       "      <td>Baumann</td>\n",
       "      <td>F</td>\n",
       "      <td>1/18/1991</td>\n",
       "    </tr>\n",
       "  </tbody>\n",
       "</table>\n",
       "</div>"
      ],
      "text/plain": [
       "   emp_no emp_title_id  birth_date  first_name  last_name sex   hire_date\n",
       "0  473302        s0001   7/25/1953    Hideyuki   Zallocco   M   4/28/1990\n",
       "1  475053        e0002  11/18/1954       Byong  Delgrande   F    9/7/1991\n",
       "2   57444        e0002   1/30/1958       Berry       Babb   F   3/21/1992\n",
       "3  421786        s0001   9/28/1957       Xiong   Verhoeff   M  11/26/1987\n",
       "4  282238        e0003  10/28/1952  Abdelkader    Baumann   F   1/18/1991"
      ]
     },
     "execution_count": 77,
     "metadata": {},
     "output_type": "execute_result"
    }
   ],
   "source": [
    "table_names[3].head()"
   ]
  },
  {
   "cell_type": "code",
   "execution_count": 71,
   "metadata": {},
   "outputs": [
    {
     "ename": "NameError",
     "evalue": "name 'dept_emp' is not defined",
     "output_type": "error",
     "traceback": [
      "\u001b[1;31m---------------------------------------------------------------------------\u001b[0m",
      "\u001b[1;31mNameError\u001b[0m                                 Traceback (most recent call last)",
      "\u001b[1;32m<ipython-input-71-eebadb6e447d>\u001b[0m in \u001b[0;36m<module>\u001b[1;34m\u001b[0m\n\u001b[1;32m----> 1\u001b[1;33m \u001b[0mdept_emp\u001b[0m\u001b[1;33m\u001b[0m\u001b[1;33m\u001b[0m\u001b[0m\n\u001b[0m\u001b[0;32m      2\u001b[0m \u001b[1;33m\u001b[0m\u001b[0m\n",
      "\u001b[1;31mNameError\u001b[0m: name 'dept_emp' is not defined"
     ]
    }
   ],
   "source": [
    "dept_emp\n",
    "    "
   ]
  },
  {
   "cell_type": "code",
   "execution_count": 47,
   "metadata": {},
   "outputs": [
    {
     "ename": "NameError",
     "evalue": "name 'dept_emp' is not defined",
     "output_type": "error",
     "traceback": [
      "\u001b[1;31m---------------------------------------------------------------------------\u001b[0m",
      "\u001b[1;31mNameError\u001b[0m                                 Traceback (most recent call last)",
      "\u001b[1;32m<ipython-input-47-3c8198232fb8>\u001b[0m in \u001b[0;36m<module>\u001b[1;34m\u001b[0m\n\u001b[1;32m----> 1\u001b[1;33m \u001b[0mdept_emp\u001b[0m\u001b[1;33m.\u001b[0m\u001b[0mhead\u001b[0m\u001b[1;33m(\u001b[0m\u001b[1;33m)\u001b[0m\u001b[1;33m\u001b[0m\u001b[1;33m\u001b[0m\u001b[0m\n\u001b[0m",
      "\u001b[1;31mNameError\u001b[0m: name 'dept_emp' is not defined"
     ]
    }
   ],
   "source": [
    "dept_emp.head()"
   ]
  },
  {
   "cell_type": "code",
   "execution_count": null,
   "metadata": {},
   "outputs": [],
   "source": []
  }
 ],
 "metadata": {
  "kernelspec": {
   "display_name": "Python 3",
   "language": "python",
   "name": "python3"
  },
  "language_info": {
   "codemirror_mode": {
    "name": "ipython",
    "version": 3
   },
   "file_extension": ".py",
   "mimetype": "text/x-python",
   "name": "python",
   "nbconvert_exporter": "python",
   "pygments_lexer": "ipython3",
   "version": "3.8.3"
  }
 },
 "nbformat": 4,
 "nbformat_minor": 4
}
