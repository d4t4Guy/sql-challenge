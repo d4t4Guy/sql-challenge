{
 "cells": [
  {
   "cell_type": "code",
   "execution_count": 1,
   "metadata": {},
   "outputs": [],
   "source": [
    "import os\n",
    "import pandas as pd\n",
    "\n"
   ]
  },
  {
   "cell_type": "code",
   "execution_count": 2,
   "metadata": {},
   "outputs": [],
   "source": [
    "#path to data directory\n",
    "csv_dir = os.path.join('..', 'data')"
   ]
  },
  {
   "cell_type": "code",
   "execution_count": 3,
   "metadata": {},
   "outputs": [],
   "source": [
    "# cf:https://stackoverflow.com/questions/55245721/read-in-multiple-csv-into-separate-dataframes-in-pandas\n",
    "# retrieved 2021-02-21\n",
    "csv_list = [x for x in os.listdir(csv_dir) if x.endswith('.csv')]"
   ]
  },
  {
   "cell_type": "code",
   "execution_count": 4,
   "metadata": {},
   "outputs": [
    {
     "name": "stdout",
     "output_type": "stream",
     "text": [
      "['departments.csv', 'dept_emp.csv', 'dept_manager.csv', 'employees.csv', 'salaries.csv', 'titles.csv']\n"
     ]
    }
   ],
   "source": [
    "print(csv_list)"
   ]
  },
  {
   "cell_type": "code",
   "execution_count": 5,
   "metadata": {},
   "outputs": [],
   "source": [
    "dfnames = [os.path.splitext(os.path.basename(x))[0] for x in csv_list]"
   ]
  },
  {
   "cell_type": "code",
   "execution_count": 6,
   "metadata": {},
   "outputs": [],
   "source": [
    "csv_dict = {}\n",
    "for i in range(len(dfnames)):\n",
    "    csv_dict[dfnames[i]] = pd.read_csv(os.path.join(csv_dir, csv_list[i]))"
   ]
  },
  {
   "cell_type": "code",
   "execution_count": 7,
   "metadata": {},
   "outputs": [
    {
     "name": "stdout",
     "output_type": "stream",
     "text": [
      "['departments', 'dept_emp', 'dept_manager', 'employees', 'salaries', 'titles']\n"
     ]
    }
   ],
   "source": [
    "#Check table names\n",
    "print(dfnames)"
   ]
  },
  {
   "cell_type": "code",
   "execution_count": 12,
   "metadata": {
    "scrolled": true
   },
   "outputs": [
    {
     "name": "stdout",
     "output_type": "stream",
     "text": [
      "dict_items([('departments',   dept_no           dept_name\n",
      "0    d001           Marketing\n",
      "1    d002             Finance\n",
      "2    d003     Human Resources\n",
      "3    d004          Production\n",
      "4    d005         Development\n",
      "5    d006  Quality Management\n",
      "6    d007               Sales\n",
      "7    d008            Research\n",
      "8    d009    Customer Service), ('dept_emp',         emp_no dept_no\n",
      "0        10001    d005\n",
      "1        10002    d007\n",
      "2        10003    d004\n",
      "3        10004    d004\n",
      "4        10005    d003\n",
      "...        ...     ...\n",
      "331598  499995    d004\n",
      "331599  499996    d004\n",
      "331600  499997    d005\n",
      "331601  499998    d002\n",
      "331602  499999    d004\n",
      "\n",
      "[331603 rows x 2 columns]), ('dept_manager',    dept_no  emp_no\n",
      "0     d001  110022\n",
      "1     d001  110039\n",
      "2     d002  110085\n",
      "3     d002  110114\n",
      "4     d003  110183\n",
      "5     d003  110228\n",
      "6     d004  110303\n",
      "7     d004  110344\n",
      "8     d004  110386\n",
      "9     d004  110420\n",
      "10    d005  110511\n",
      "11    d005  110567\n",
      "12    d006  110725\n",
      "13    d006  110765\n",
      "14    d006  110800\n",
      "15    d006  110854\n",
      "16    d007  111035\n",
      "17    d007  111133\n",
      "18    d008  111400\n",
      "19    d008  111534\n",
      "20    d009  111692\n",
      "21    d009  111784\n",
      "22    d009  111877\n",
      "23    d009  111939), ('employees',         emp_no emp_title_id  birth_date   first_name  last_name sex  \\\n",
      "0       473302        s0001   7/25/1953     Hideyuki   Zallocco   M   \n",
      "1       475053        e0002  11/18/1954        Byong  Delgrande   F   \n",
      "2        57444        e0002   1/30/1958        Berry       Babb   F   \n",
      "3       421786        s0001   9/28/1957        Xiong   Verhoeff   M   \n",
      "4       282238        e0003  10/28/1952   Abdelkader    Baumann   F   \n",
      "...        ...          ...         ...          ...        ...  ..   \n",
      "300019  464231        s0001   8/14/1958  Constantino    Eastman   M   \n",
      "300020  255832        e0002    5/8/1955       Yuping     Dayang   F   \n",
      "300021   76671        s0001    6/9/1959       Ortrud   Plessier   M   \n",
      "300022  264920        s0001   9/22/1959        Percy   Samarati   F   \n",
      "300023  464503        s0002   5/31/1964       Arvind  Slobodova   M   \n",
      "\n",
      "         hire_date  \n",
      "0        4/28/1990  \n",
      "1         9/7/1991  \n",
      "2        3/21/1992  \n",
      "3       11/26/1987  \n",
      "4        1/18/1991  \n",
      "...            ...  \n",
      "300019  10/28/1988  \n",
      "300020   2/26/1995  \n",
      "300021   2/24/1988  \n",
      "300022    9/8/1994  \n",
      "300023  11/23/1987  \n",
      "\n",
      "[300024 rows x 7 columns]), ('salaries',         emp_no  salary\n",
      "0        10001   60117\n",
      "1        10002   65828\n",
      "2        10003   40006\n",
      "3        10004   40054\n",
      "4        10005   78228\n",
      "...        ...     ...\n",
      "300019  499995   40000\n",
      "300020  499996   58058\n",
      "300021  499997   49597\n",
      "300022  499998   40000\n",
      "300023  499999   63707\n",
      "\n",
      "[300024 rows x 2 columns]), ('titles',   title_id               title\n",
      "0    s0001               Staff\n",
      "1    s0002        Senior Staff\n",
      "2    e0001  Assistant Engineer\n",
      "3    e0002            Engineer\n",
      "4    e0003     Senior Engineer\n",
      "5    e0004    Technique Leader\n",
      "6    m0001             Manager)])\n"
     ]
    }
   ],
   "source": [
    "# list columns per df\n",
    "print(csv_dict.items())"
   ]
  },
  {
   "cell_type": "code",
   "execution_count": 15,
   "metadata": {},
   "outputs": [
    {
     "name": "stdout",
     "output_type": "stream",
     "text": [
      "<class 'pandas.core.frame.DataFrame'>\n",
      "RangeIndex: 300024 entries, 0 to 300023\n",
      "Data columns (total 7 columns):\n",
      " #   Column        Non-Null Count   Dtype \n",
      "---  ------        --------------   ----- \n",
      " 0   emp_no        300024 non-null  int64 \n",
      " 1   emp_title_id  300024 non-null  object\n",
      " 2   birth_date    300024 non-null  object\n",
      " 3   first_name    300024 non-null  object\n",
      " 4   last_name     300024 non-null  object\n",
      " 5   sex           300024 non-null  object\n",
      " 6   hire_date     300024 non-null  object\n",
      "dtypes: int64(1), object(6)\n",
      "memory usage: 16.0+ MB\n"
     ]
    }
   ],
   "source": [
    "csv_dict[\"employees\"].info()"
   ]
  },
  {
   "cell_type": "code",
   "execution_count": null,
   "metadata": {},
   "outputs": [],
   "source": []
  }
 ],
 "metadata": {
  "kernelspec": {
   "display_name": "Python 3",
   "language": "python",
   "name": "python3"
  },
  "language_info": {
   "codemirror_mode": {
    "name": "ipython",
    "version": 3
   },
   "file_extension": ".py",
   "mimetype": "text/x-python",
   "name": "python",
   "nbconvert_exporter": "python",
   "pygments_lexer": "ipython3",
   "version": "3.8.3"
  }
 },
 "nbformat": 4,
 "nbformat_minor": 4
}
