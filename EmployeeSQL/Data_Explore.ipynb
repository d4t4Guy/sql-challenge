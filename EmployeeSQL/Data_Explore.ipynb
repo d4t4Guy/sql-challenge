{
 "cells": [
  {
   "cell_type": "code",
   "execution_count": 1,
   "metadata": {},
   "outputs": [],
   "source": [
    "import os\n",
    "import pandas as pd\n",
    "\n"
   ]
  },
  {
   "cell_type": "code",
   "execution_count": 2,
   "metadata": {},
   "outputs": [],
   "source": [
    "#path to data directory\n",
    "csv_dir = os.path.join('..', 'data')"
   ]
  },
  {
   "cell_type": "code",
   "execution_count": 3,
   "metadata": {},
   "outputs": [],
   "source": [
    "# cf:https://stackoverflow.com/questions/55245721/read-in-multiple-csv-into-separate-dataframes-in-pandas\n",
    "# retrieved 2021-02-21\n",
    "csv_list = [x for x in os.listdir(csv_dir) if x.endswith('.csv')]"
   ]
  },
  {
   "cell_type": "code",
   "execution_count": 4,
   "metadata": {},
   "outputs": [
    {
     "name": "stdout",
     "output_type": "stream",
     "text": [
      "['departments.csv', 'dept_emp.csv', 'dept_manager.csv', 'employees.csv', 'salaries.csv', 'titles.csv']\n"
     ]
    }
   ],
   "source": [
    "print(csv_list)"
   ]
  },
  {
   "cell_type": "code",
   "execution_count": 5,
   "metadata": {},
   "outputs": [],
   "source": [
    "dfnames = [os.path.splitext(os.path.basename(x))[0] for x in csv_list]"
   ]
  },
  {
   "cell_type": "code",
   "execution_count": 6,
   "metadata": {},
   "outputs": [],
   "source": [
    "csv_dict = {}\n",
    "for i in range(len(dfnames)):\n",
    "    csv_dict[dfnames[i]] = pd.read_csv(os.path.join(csv_dir, csv_list[i]))"
   ]
  },
  {
   "cell_type": "code",
   "execution_count": 7,
   "metadata": {},
   "outputs": [
    {
     "name": "stdout",
     "output_type": "stream",
     "text": [
      "['departments', 'dept_emp', 'dept_manager', 'employees', 'salaries', 'titles']\n"
     ]
    }
   ],
   "source": [
    "#Check table names\n",
    "print(dfnames)"
   ]
  },
  {
   "cell_type": "code",
   "execution_count": 28,
   "metadata": {},
   "outputs": [
    {
     "data": {
      "text/plain": [
       "pandas.core.series.Series"
      ]
     },
     "execution_count": 28,
     "metadata": {},
     "output_type": "execute_result"
    }
   ],
   "source": [
    "type(csv_dict[\"dept_manager\"].duplicated(subset = 'dept_no'))"
   ]
  },
  {
   "cell_type": "code",
   "execution_count": null,
   "metadata": {
    "scrolled": true
   },
   "outputs": [],
   "source": [
    "# list columns per df\n",
    "for i in range(len(dfnames)):\n",
    "    print(csv_dict[dfnames[i]].info())"
   ]
  },
  {
   "cell_type": "markdown",
   "metadata": {},
   "source": [
    "# text schema\n",
    "\n",
    "#For use with https://www.quickdatabasediagrams.com/\n",
    "\n",
    "\n",
    "departments \n",
    "-\n",
    "dept_no PK string\n",
    "dept_name string\n",
    "\n",
    "\n",
    "\n",
    "dept_emp \n",
    "-\n",
    "emp_no PK int FK >- employees.emp_no\n",
    "dept_no string FK >- departments.dept_no\n",
    "\n",
    "\n",
    "\n",
    "dept_manager \n",
    "-\n",
    "dept_no string FK >- departments.dept_no\n",
    "emp_no PK int FK-> employees.emp_no\n",
    "\n",
    "\n",
    "\n",
    "employees \n",
    "-\n",
    "emp_no PK int\n",
    "emp_title_id string\n",
    "birth_date string \n",
    "first_name  string\n",
    "last_name string\n",
    "sex string\n",
    "hire_date string \n",
    "\n",
    "\n",
    "\n",
    "salaries\n",
    "-\n",
    "emp_no PK int FK >- employees.emp_no\n",
    "salary int\n",
    "\n",
    "\n",
    "\n",
    "titles\n",
    "-\n",
    "title_id PK string\n",
    "title UNIQUE string\n"
   ]
  },
  {
   "cell_type": "code",
   "execution_count": null,
   "metadata": {},
   "outputs": [],
   "source": []
  }
 ],
 "metadata": {
  "kernelspec": {
   "display_name": "Python 3",
   "language": "python",
   "name": "python3"
  },
  "language_info": {
   "codemirror_mode": {
    "name": "ipython",
    "version": 3
   },
   "file_extension": ".py",
   "mimetype": "text/x-python",
   "name": "python",
   "nbconvert_exporter": "python",
   "pygments_lexer": "ipython3",
   "version": "3.8.3"
  }
 },
 "nbformat": 4,
 "nbformat_minor": 4
}
